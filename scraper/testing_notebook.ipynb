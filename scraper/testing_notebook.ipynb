{
 "cells": [
  {
   "attachments": {},
   "cell_type": "markdown",
   "metadata": {},
   "source": [
    "# Testing notebook for scraping data \n",
    "This notebook will include test scripts to scrape the necessary data from various web sources."
   ]
  },
  {
   "cell_type": "markdown",
   "metadata": {},
   "source": [
    "## Scrape Bechdel test of movies\n",
    "Scrape data from http://bechdeltest.com/ using its given API. Note that according to the owner, we should avoid calling the `getAllMovies` module frequently due to a shared hosting plan. Due to this, I ran the get requests once and saved the copy as a csv file."
   ]
  },
  {
   "cell_type": "code",
   "execution_count": 8,
   "metadata": {},
   "outputs": [
    {
     "data": {
      "text/html": [
       "<div>\n",
       "<style scoped>\n",
       "    .dataframe tbody tr th:only-of-type {\n",
       "        vertical-align: middle;\n",
       "    }\n",
       "\n",
       "    .dataframe tbody tr th {\n",
       "        vertical-align: top;\n",
       "    }\n",
       "\n",
       "    .dataframe thead th {\n",
       "        text-align: right;\n",
       "    }\n",
       "</style>\n",
       "<table border=\"1\" class=\"dataframe\">\n",
       "  <thead>\n",
       "    <tr style=\"text-align: right;\">\n",
       "      <th></th>\n",
       "      <th>rating</th>\n",
       "      <th>imdbid</th>\n",
       "      <th>id</th>\n",
       "      <th>title</th>\n",
       "      <th>year</th>\n",
       "    </tr>\n",
       "  </thead>\n",
       "  <tbody>\n",
       "    <tr>\n",
       "      <th>1700</th>\n",
       "      <td>2</td>\n",
       "      <td>72905.0</td>\n",
       "      <td>10505</td>\n",
       "      <td>Dr. Minx</td>\n",
       "      <td>1975</td>\n",
       "    </tr>\n",
       "    <tr>\n",
       "      <th>7358</th>\n",
       "      <td>1</td>\n",
       "      <td>1657510.0</td>\n",
       "      <td>5131</td>\n",
       "      <td>Gimme Shelter</td>\n",
       "      <td>2013</td>\n",
       "    </tr>\n",
       "    <tr>\n",
       "      <th>9806</th>\n",
       "      <td>3</td>\n",
       "      <td>11866324.0</td>\n",
       "      <td>10433</td>\n",
       "      <td>Prey</td>\n",
       "      <td>2022</td>\n",
       "    </tr>\n",
       "    <tr>\n",
       "      <th>3259</th>\n",
       "      <td>3</td>\n",
       "      <td>116996.0</td>\n",
       "      <td>4621</td>\n",
       "      <td>Mars Attacks!</td>\n",
       "      <td>1996</td>\n",
       "    </tr>\n",
       "    <tr>\n",
       "      <th>6812</th>\n",
       "      <td>2</td>\n",
       "      <td>1637725.0</td>\n",
       "      <td>3415</td>\n",
       "      <td>Ted</td>\n",
       "      <td>2012</td>\n",
       "    </tr>\n",
       "    <tr>\n",
       "      <th>1952</th>\n",
       "      <td>3</td>\n",
       "      <td>82495.0</td>\n",
       "      <td>4708</td>\n",
       "      <td>Halloween II</td>\n",
       "      <td>1981</td>\n",
       "    </tr>\n",
       "    <tr>\n",
       "      <th>3182</th>\n",
       "      <td>3</td>\n",
       "      <td>113862.0</td>\n",
       "      <td>10198</td>\n",
       "      <td>Mr. Holland&amp;#39;s Opus</td>\n",
       "      <td>1995</td>\n",
       "    </tr>\n",
       "    <tr>\n",
       "      <th>169</th>\n",
       "      <td>3</td>\n",
       "      <td>13140.0</td>\n",
       "      <td>5958</td>\n",
       "      <td>Foolish Wives</td>\n",
       "      <td>1922</td>\n",
       "    </tr>\n",
       "    <tr>\n",
       "      <th>9186</th>\n",
       "      <td>3</td>\n",
       "      <td>5941692.0</td>\n",
       "      <td>8728</td>\n",
       "      <td>Miss Bala</td>\n",
       "      <td>2019</td>\n",
       "    </tr>\n",
       "    <tr>\n",
       "      <th>8729</th>\n",
       "      <td>3</td>\n",
       "      <td>6029106.0</td>\n",
       "      <td>7904</td>\n",
       "      <td>Dim the Fluorescents</td>\n",
       "      <td>2017</td>\n",
       "    </tr>\n",
       "  </tbody>\n",
       "</table>\n",
       "</div>"
      ],
      "text/plain": [
       "      rating      imdbid     id                   title  year\n",
       "1700       2     72905.0  10505                Dr. Minx  1975\n",
       "7358       1   1657510.0   5131           Gimme Shelter  2013\n",
       "9806       3  11866324.0  10433                    Prey  2022\n",
       "3259       3    116996.0   4621           Mars Attacks!  1996\n",
       "6812       2   1637725.0   3415                     Ted  2012\n",
       "1952       3     82495.0   4708            Halloween II  1981\n",
       "3182       3    113862.0  10198  Mr. Holland&#39;s Opus  1995\n",
       "169        3     13140.0   5958           Foolish Wives  1922\n",
       "9186       3   5941692.0   8728               Miss Bala  2019\n",
       "8729       3   6029106.0   7904    Dim the Fluorescents  2017"
      ]
     },
     "execution_count": 8,
     "metadata": {},
     "output_type": "execute_result"
    }
   ],
   "source": [
    "import io\n",
    "import re\n",
    "import requests\n",
    "import numpy as np\n",
    "import pandas as pd\n",
    "from bs4 import BeautifulSoup\n",
    "\n",
    "main_dir = \"/home/jdtganding/Documents/bechdel-movies-project/data\"\n",
    "\n",
    "# html = requests.get('http://bechdeltest.com/api/v1/getAllMovies').content\n",
    "# df = pd.read_json(io.StringIO(html.decode('utf-8')))\n",
    "# df.to_csv(bechdel_movies, index=None)\n",
    "\n",
    "bechdel_movies_df = pd.read_csv(f\"{main_dir}/BechdelTestMovieList.csv\")\n",
    "# bechdel_movies_df['imdbid'] = bechdel_movies_df['imdbid'].astype(int)\n",
    "bechdel_movies_df.sample(10)"
   ]
  },
  {
   "cell_type": "code",
   "execution_count": 10,
   "metadata": {},
   "outputs": [
    {
     "data": {
      "text/html": [
       "<div>\n",
       "<style scoped>\n",
       "    .dataframe tbody tr th:only-of-type {\n",
       "        vertical-align: middle;\n",
       "    }\n",
       "\n",
       "    .dataframe tbody tr th {\n",
       "        vertical-align: top;\n",
       "    }\n",
       "\n",
       "    .dataframe thead th {\n",
       "        text-align: right;\n",
       "    }\n",
       "</style>\n",
       "<table border=\"1\" class=\"dataframe\">\n",
       "  <thead>\n",
       "    <tr style=\"text-align: right;\">\n",
       "      <th></th>\n",
       "      <th>rating</th>\n",
       "      <th>imdbid</th>\n",
       "      <th>id</th>\n",
       "      <th>title</th>\n",
       "      <th>year</th>\n",
       "    </tr>\n",
       "  </thead>\n",
       "  <tbody>\n",
       "    <tr>\n",
       "      <th>8604</th>\n",
       "      <td>3</td>\n",
       "      <td>NaN</td>\n",
       "      <td>10131</td>\n",
       "      <td>Moana</td>\n",
       "      <td>2016</td>\n",
       "    </tr>\n",
       "    <tr>\n",
       "      <th>9152</th>\n",
       "      <td>1</td>\n",
       "      <td>NaN</td>\n",
       "      <td>10659</td>\n",
       "      <td>No me digas solterona</td>\n",
       "      <td>2018</td>\n",
       "    </tr>\n",
       "    <tr>\n",
       "      <th>9153</th>\n",
       "      <td>1</td>\n",
       "      <td>NaN</td>\n",
       "      <td>10661</td>\n",
       "      <td>Oceans 8</td>\n",
       "      <td>2018</td>\n",
       "    </tr>\n",
       "    <tr>\n",
       "      <th>9393</th>\n",
       "      <td>3</td>\n",
       "      <td>NaN</td>\n",
       "      <td>10029</td>\n",
       "      <td>Decedants 3</td>\n",
       "      <td>2019</td>\n",
       "    </tr>\n",
       "    <tr>\n",
       "      <th>9699</th>\n",
       "      <td>3</td>\n",
       "      <td>NaN</td>\n",
       "      <td>10231</td>\n",
       "      <td>Wrong Turn</td>\n",
       "      <td>2021</td>\n",
       "    </tr>\n",
       "  </tbody>\n",
       "</table>\n",
       "</div>"
      ],
      "text/plain": [
       "      rating  imdbid     id                  title  year\n",
       "8604       3     NaN  10131                  Moana  2016\n",
       "9152       1     NaN  10659  No me digas solterona  2018\n",
       "9153       1     NaN  10661               Oceans 8  2018\n",
       "9393       3     NaN  10029            Decedants 3  2019\n",
       "9699       3     NaN  10231             Wrong Turn  2021"
      ]
     },
     "execution_count": 10,
     "metadata": {},
     "output_type": "execute_result"
    }
   ],
   "source": [
    "bechdel_movies_df[bechdel_movies_df['imdbid'].isnull()]"
   ]
  },
  {
   "cell_type": "code",
   "execution_count": 6,
   "metadata": {},
   "outputs": [
    {
     "name": "stdout",
     "output_type": "stream",
     "text": [
      "<class 'pandas.core.frame.DataFrame'>\n",
      "RangeIndex: 9908 entries, 0 to 9907\n",
      "Data columns (total 5 columns):\n",
      " #   Column  Non-Null Count  Dtype  \n",
      "---  ------  --------------  -----  \n",
      " 0   rating  9908 non-null   int64  \n",
      " 1   imdbid  9903 non-null   float64\n",
      " 2   id      9908 non-null   int64  \n",
      " 3   title   9908 non-null   object \n",
      " 4   year    9908 non-null   int64  \n",
      "dtypes: float64(1), int64(3), object(1)\n",
      "memory usage: 387.2+ KB\n"
     ]
    }
   ],
   "source": [
    "bechdel_movies_df.info()"
   ]
  },
  {
   "cell_type": "code",
   "execution_count": 37,
   "metadata": {},
   "outputs": [
    {
     "data": {
      "text/html": [
       "<div>\n",
       "<style scoped>\n",
       "    .dataframe tbody tr th:only-of-type {\n",
       "        vertical-align: middle;\n",
       "    }\n",
       "\n",
       "    .dataframe tbody tr th {\n",
       "        vertical-align: top;\n",
       "    }\n",
       "\n",
       "    .dataframe thead th {\n",
       "        text-align: right;\n",
       "    }\n",
       "</style>\n",
       "<table border=\"1\" class=\"dataframe\">\n",
       "  <thead>\n",
       "    <tr style=\"text-align: right;\">\n",
       "      <th></th>\n",
       "      <th>rating</th>\n",
       "      <th>imdbid</th>\n",
       "      <th>id</th>\n",
       "      <th>title</th>\n",
       "      <th>year</th>\n",
       "    </tr>\n",
       "  </thead>\n",
       "  <tbody>\n",
       "    <tr>\n",
       "      <th>0</th>\n",
       "      <td>0</td>\n",
       "      <td>3155794.0</td>\n",
       "      <td>9602</td>\n",
       "      <td>Passage de Venus</td>\n",
       "      <td>1874</td>\n",
       "    </tr>\n",
       "    <tr>\n",
       "      <th>1</th>\n",
       "      <td>0</td>\n",
       "      <td>14495706.0</td>\n",
       "      <td>9804</td>\n",
       "      <td>La Rosace Magique</td>\n",
       "      <td>1877</td>\n",
       "    </tr>\n",
       "    <tr>\n",
       "      <th>2</th>\n",
       "      <td>0</td>\n",
       "      <td>2221420.0</td>\n",
       "      <td>9603</td>\n",
       "      <td>Sallie Gardner at a Gallop</td>\n",
       "      <td>1878</td>\n",
       "    </tr>\n",
       "    <tr>\n",
       "      <th>3</th>\n",
       "      <td>0</td>\n",
       "      <td>12592084.0</td>\n",
       "      <td>9806</td>\n",
       "      <td>Le singe musicien</td>\n",
       "      <td>1878</td>\n",
       "    </tr>\n",
       "    <tr>\n",
       "      <th>4</th>\n",
       "      <td>0</td>\n",
       "      <td>7816420.0</td>\n",
       "      <td>9816</td>\n",
       "      <td>Athlete Swinging a Pick</td>\n",
       "      <td>1881</td>\n",
       "    </tr>\n",
       "    <tr>\n",
       "      <th>...</th>\n",
       "      <td>...</td>\n",
       "      <td>...</td>\n",
       "      <td>...</td>\n",
       "      <td>...</td>\n",
       "      <td>...</td>\n",
       "    </tr>\n",
       "    <tr>\n",
       "      <th>198</th>\n",
       "      <td>1</td>\n",
       "      <td>16884.0</td>\n",
       "      <td>1260</td>\n",
       "      <td>Flesh and the Devil</td>\n",
       "      <td>1926</td>\n",
       "    </tr>\n",
       "    <tr>\n",
       "      <th>199</th>\n",
       "      <td>0</td>\n",
       "      <td>17925.0</td>\n",
       "      <td>1310</td>\n",
       "      <td>General, The</td>\n",
       "      <td>1926</td>\n",
       "    </tr>\n",
       "    <tr>\n",
       "      <th>200</th>\n",
       "      <td>0</td>\n",
       "      <td>16895.0</td>\n",
       "      <td>1966</td>\n",
       "      <td>For Heaven&amp;#39;s Sake</td>\n",
       "      <td>1926</td>\n",
       "    </tr>\n",
       "    <tr>\n",
       "      <th>201</th>\n",
       "      <td>3</td>\n",
       "      <td>17410.0</td>\n",
       "      <td>3217</td>\n",
       "      <td>So&amp;#39;s Your Old Man</td>\n",
       "      <td>1926</td>\n",
       "    </tr>\n",
       "    <tr>\n",
       "      <th>202</th>\n",
       "      <td>1</td>\n",
       "      <td>15532.0</td>\n",
       "      <td>5974</td>\n",
       "      <td>Die Abenteuer des Prinzen Achmed</td>\n",
       "      <td>1926</td>\n",
       "    </tr>\n",
       "  </tbody>\n",
       "</table>\n",
       "<p>203 rows × 5 columns</p>\n",
       "</div>"
      ],
      "text/plain": [
       "     rating      imdbid    id                             title  year\n",
       "0         0   3155794.0  9602                  Passage de Venus  1874\n",
       "1         0  14495706.0  9804                 La Rosace Magique  1877\n",
       "2         0   2221420.0  9603        Sallie Gardner at a Gallop  1878\n",
       "3         0  12592084.0  9806                 Le singe musicien  1878\n",
       "4         0   7816420.0  9816           Athlete Swinging a Pick  1881\n",
       "..      ...         ...   ...                               ...   ...\n",
       "198       1     16884.0  1260               Flesh and the Devil  1926\n",
       "199       0     17925.0  1310                      General, The  1926\n",
       "200       0     16895.0  1966             For Heaven&#39;s Sake  1926\n",
       "201       3     17410.0  3217             So&#39;s Your Old Man  1926\n",
       "202       1     15532.0  5974  Die Abenteuer des Prinzen Achmed  1926\n",
       "\n",
       "[203 rows x 5 columns]"
      ]
     },
     "execution_count": 37,
     "metadata": {},
     "output_type": "execute_result"
    }
   ],
   "source": [
    "bechdel_movies_df[bechdel_movies_df.year < 1927]"
   ]
  },
  {
   "cell_type": "markdown",
   "metadata": {},
   "source": [
    "## Scrape Oscars movie nominees and winners\n",
    "The Academy Awards has their own database found on https://awardsdatabase.oscars.org/. I scraped the whole database from the 1st Academy Awards up to the latest using `selenium` and saved the page source as a variable that can be read using `BeautifulSoup`."
   ]
  },
  {
   "cell_type": "code",
   "execution_count": 95,
   "metadata": {},
   "outputs": [
    {
     "name": "stdout",
     "output_type": "stream",
     "text": [
      "Message: Unable to locate element: //*[@id=\"resultscontainer\"]\n",
      "Stacktrace:\n",
      "WebDriverError@chrome://remote/content/shared/webdriver/Errors.jsm:186:5\n",
      "NoSuchElementError@chrome://remote/content/shared/webdriver/Errors.jsm:398:5\n",
      "element.find/</<@chrome://remote/content/marionette/element.js:300:16\n",
      "\n",
      "Needed element still not found after 60 seconds delay\n",
      "Driver closed\n"
     ]
    }
   ],
   "source": [
    "import time\n",
    "from selenium import webdriver\n",
    "from selenium.webdriver.common.by import By\n",
    "from selenium.common.exceptions import NoSuchElementException\n",
    "\n",
    "options = webdriver.FirefoxOptions()\n",
    "options.add_argument('--ignore-certificate-errors')\n",
    "options.add_argument('--incognito')\n",
    "options.add_argument('--headless')\n",
    "\n",
    "driver = webdriver.Firefox(options=options)\n",
    "driver.get(\"https://awardsdatabase.oscars.org/\") \n",
    "\n",
    "#select award categories\n",
    "driver.find_element(By.XPATH,\"//button[contains(@class,'awards-basicsrch-awardcategory')]\").click()\n",
    "driver.find_element(By.XPATH,\"//b[contains(text(),'Current Categories')]\").click()\n",
    "\n",
    "#select starting award year\n",
    "driver.find_element(By.XPATH,\"//button[contains(@class,'awards-advsrch-yearsfrom')]\").click()\n",
    "driver.find_element(By.XPATH,\"//div[@class='btn-group multiselect-btn-group open']//input[@value='1']\").click()\n",
    "\n",
    "#select ending award year\n",
    "driver.find_element(By.XPATH,\"//button[contains(@class,'awards-advsrch-yearsto')]\").click()\n",
    "year_latest = len(driver.find_elements(By.XPATH,\"//div[@class='btn-group multiselect-btn-group open']//li\"))-2\n",
    "driver.find_element(By.XPATH,f\"//div[@class='btn-group multiselect-btn-group open']//input[@value='{year_latest}']\").click()\n",
    "\n",
    "#search to view results\n",
    "# driver.find_element(By.XPATH,'//*[@id=\"btnbasicsearch\"]').click()\n",
    "\n",
    "#wait for all results to show\n",
    "# time.sleep(60)\n",
    "\n",
    "try:\n",
    "    #resultscontainer will contain all our needed Oscars data\n",
    "    driver.find_element(By.XPATH, '//*[@id=\"resultscontainer\"]')\n",
    "\n",
    "except NoSuchElementException as error:\n",
    "    print(error)\n",
    "    print(f\"Needed element still not found after 60 seconds delay\")\n",
    "\n",
    "#get html source for BeautifulSoup extraction\n",
    "page_source = driver.page_source\n",
    "\n",
    "#close driver\n",
    "driver.close()\n",
    "print(\"Driver closed\")"
   ]
  },
  {
   "attachments": {},
   "cell_type": "markdown",
   "metadata": {},
   "source": [
    "### Transform json into structured format such as csv\n",
    "First, we will use BeautifulSoup to extract elements and clean the page source. Then we would want the following structure for our dataframe:\n",
    "```python\n",
    "df_structure = {\n",
    "    \"AwardYear\":[],\n",
    "    \"AwardCeremonyNum\":[],\n",
    "    \"Movie\":[],\n",
    "    \"AwardCategory\":[],\n",
    "    \"AwardStatus\":[]\n",
    "}\n",
    "```\n",
    "\n",
    "- `AwardYear`: the year the award was received\n",
    "- `AwardCeremonyNum`: the nth annual ceremony award\n",
    "- `Movie`: the title of the nominated film\n",
    "- `AwardCategory`: the category the film was nominated for\n",
    "- `AwardStatus`: whether the film was only nominated or had won"
   ]
  },
  {
   "cell_type": "code",
   "execution_count": 27,
   "metadata": {},
   "outputs": [],
   "source": [
    "# soup = BeautifulSoup(page_source, \"lxml\")\n",
    "# results_container = soup.find('div', {'id':'resultscontainer'})\n",
    "\n",
    "# with open (f\"{main_dir}/OscarsResultsContainerHTML.txt\", \"w\") as file:\n",
    "#     file.write(str(results_container))"
   ]
  },
  {
   "cell_type": "code",
   "execution_count": 2,
   "metadata": {},
   "outputs": [],
   "source": [
    "results_container = open(f\"{main_dir}/OscarsResultsContainerHTML.txt\", \"r\")\n",
    "results_container = BeautifulSoup(results_container, 'lxml')\n",
    "\n",
    "award_year_all = results_container.find_all('div',class_='awards-result-chron result-group group-awardcategory-chron')"
   ]
  },
  {
   "cell_type": "code",
   "execution_count": 90,
   "metadata": {
    "scrolled": true
   },
   "outputs": [],
   "source": [
    "oscars_results = []\n",
    "\n",
    "for award_year_group in award_year_all:\n",
    "\n",
    "    df_structure = {\n",
    "        \"AwardYear\":'',\n",
    "        \"AwardCeremonyNum\":'',\n",
    "        \"Movie\":[],\n",
    "        \"AwardCategory\":[],\n",
    "        \"AwardStatus\": []\n",
    "    }\n",
    "\n",
    "    #find the award year title\n",
    "    award_year = award_year_group.find('div',class_='result-group-title')\\\n",
    "                                 .get_text(strip=True)\n",
    "\n",
    "    #separate award year title to extract year\n",
    "    key_split = award_year.split(\" \")\n",
    "    df_structure['AwardYear'] = key_split[0]\n",
    "    df_structure['AwardCeremonyNum'] = re.findall(r'\\d+',key_split[1])[0]\n",
    "    \n",
    "    #award category result subgroup (each contains award title and nominees)\n",
    "    award_category_all = award_year_group.find_all('div',class_='result-subgroup subgroup-awardcategory-chron')\n",
    "\n",
    "    for award_category_group in award_category_all:\n",
    "\n",
    "        #find award title\n",
    "        award_title = award_category_group.find('div',class_='result-subgroup-title')\\\n",
    "                                          .get_text(strip=True)\n",
    "        \n",
    "        try:\n",
    "            #find nominated movies\n",
    "            movies = [movie.get_text(strip=True) for movie in award_category_group\\\n",
    "                           .find_all('div', class_='awards-result-film-title')]\n",
    "\n",
    "            #remove duplicates\n",
    "            movies = list(set(movies)) \n",
    "\n",
    "            #find winning movie\n",
    "            winner_group = award_category_group.find('span', {'title':'Winner'})\\\n",
    "                                               .find_next_sibling('div')\n",
    "\n",
    "            winners = [movie.get_text(strip=True) for movie in winner_group\\\n",
    "                            .find_all('div', class_='awards-result-film-title')]\n",
    "\n",
    "            #update df_structure movie and category lists\n",
    "            count = len(movies)\n",
    "            if count > 0:\n",
    "                df_structure['Movie'].extend(movies)\n",
    "                df_structure['AwardCategory'].extend(list(np.repeat([award_title],count)))\n",
    "\n",
    "                #add winner/s\n",
    "                categ_list = list(np.repeat(['nominated'],count))\n",
    "                for winner in winners:\n",
    "                    categ_list[movies.index(winner)] = 'won'\n",
    "\n",
    "                df_structure['AwardStatus'].extend(categ_list)\n",
    "      \n",
    "        except AttributeError:\n",
    "            pass\n",
    "\n",
    "    #append dataframe to list\n",
    "    oscars_results.append(pd.DataFrame(df_structure))\n",
    "\n",
    "#concatenate all award year dataframe into one    \n",
    "oscars_results_final = pd.concat(oscars_results).reset_index(drop=True)\n",
    "\n",
    "#save data as a csv file\n",
    "oscars_results_final.to_csv(f\"{main_dir}/OscarsFullResults.csv\", index=False)"
   ]
  },
  {
   "attachments": {},
   "cell_type": "markdown",
   "metadata": {},
   "source": [
    "## Collecting IMDB datasets"
   ]
  },
  {
   "cell_type": "code",
   "execution_count": 4,
   "metadata": {},
   "outputs": [],
   "source": [
    "imdb_titles = pd.read_csv('https://datasets.imdbws.com/title.basics.tsv.gz', \n",
    "                          chunksize=500_000,\n",
    "                          iterator=True,\n",
    "                          sep='\\t',\n",
    "                          header=0)"
   ]
  },
  {
   "cell_type": "code",
   "execution_count": 1,
   "metadata": {},
   "outputs": [
    {
     "ename": "NameError",
     "evalue": "name 'imdb_titles' is not defined",
     "output_type": "error",
     "traceback": [
      "\u001b[0;31m---------------------------------------------------------------------------\u001b[0m",
      "\u001b[0;31mNameError\u001b[0m                                 Traceback (most recent call last)",
      "Cell \u001b[0;32mIn[1], line 1\u001b[0m\n\u001b[0;32m----> 1\u001b[0m imdb_titles\u001b[39m.\u001b[39mshape\n",
      "\u001b[0;31mNameError\u001b[0m: name 'imdb_titles' is not defined"
     ]
    }
   ],
   "source": [
    "imdb_titles_iter = next(imdb_titles)"
   ]
  },
  {
   "cell_type": "code",
   "execution_count": 24,
   "metadata": {},
   "outputs": [],
   "source": [
    "agg = imdb_titles.groupby('startYear')\\\n",
    "                 .agg({'startYear':'count'})\\\n",
    "                 .rename(columns={'startYear':'count'})\\\n",
    "                 .reset_index()\n",
    "agg = agg[~agg.startYear.str.contains('N')]"
   ]
  },
  {
   "cell_type": "code",
   "execution_count": 55,
   "metadata": {},
   "outputs": [
    {
     "data": {
      "text/html": [
       "<div>\n",
       "<style scoped>\n",
       "    .dataframe tbody tr th:only-of-type {\n",
       "        vertical-align: middle;\n",
       "    }\n",
       "\n",
       "    .dataframe tbody tr th {\n",
       "        vertical-align: top;\n",
       "    }\n",
       "\n",
       "    .dataframe thead th {\n",
       "        text-align: right;\n",
       "    }\n",
       "</style>\n",
       "<table border=\"1\" class=\"dataframe\">\n",
       "  <thead>\n",
       "    <tr style=\"text-align: right;\">\n",
       "      <th></th>\n",
       "      <th>startYear</th>\n",
       "      <th>count</th>\n",
       "    </tr>\n",
       "  </thead>\n",
       "  <tbody>\n",
       "    <tr>\n",
       "      <th>0</th>\n",
       "      <td>1874</td>\n",
       "      <td>1</td>\n",
       "    </tr>\n",
       "    <tr>\n",
       "      <th>1</th>\n",
       "      <td>1877</td>\n",
       "      <td>4</td>\n",
       "    </tr>\n",
       "    <tr>\n",
       "      <th>2</th>\n",
       "      <td>1878</td>\n",
       "      <td>3</td>\n",
       "    </tr>\n",
       "    <tr>\n",
       "      <th>3</th>\n",
       "      <td>1881</td>\n",
       "      <td>2</td>\n",
       "    </tr>\n",
       "    <tr>\n",
       "      <th>4</th>\n",
       "      <td>1882</td>\n",
       "      <td>2</td>\n",
       "    </tr>\n",
       "    <tr>\n",
       "      <th>...</th>\n",
       "      <td>...</td>\n",
       "      <td>...</td>\n",
       "    </tr>\n",
       "    <tr>\n",
       "      <th>140</th>\n",
       "      <td>2019</td>\n",
       "      <td>421086</td>\n",
       "    </tr>\n",
       "    <tr>\n",
       "      <th>141</th>\n",
       "      <td>2020</td>\n",
       "      <td>396868</td>\n",
       "    </tr>\n",
       "    <tr>\n",
       "      <th>142</th>\n",
       "      <td>2021</td>\n",
       "      <td>450984</td>\n",
       "    </tr>\n",
       "    <tr>\n",
       "      <th>143</th>\n",
       "      <td>2022</td>\n",
       "      <td>393100</td>\n",
       "    </tr>\n",
       "    <tr>\n",
       "      <th>144</th>\n",
       "      <td>2023</td>\n",
       "      <td>76054</td>\n",
       "    </tr>\n",
       "  </tbody>\n",
       "</table>\n",
       "<p>145 rows × 2 columns</p>\n",
       "</div>"
      ],
      "text/plain": [
       "    startYear   count\n",
       "0        1874       1\n",
       "1        1877       4\n",
       "2        1878       3\n",
       "3        1881       2\n",
       "4        1882       2\n",
       "..        ...     ...\n",
       "140      2019  421086\n",
       "141      2020  396868\n",
       "142      2021  450984\n",
       "143      2022  393100\n",
       "144      2023   76054\n",
       "\n",
       "[145 rows x 2 columns]"
      ]
     },
     "execution_count": 55,
     "metadata": {},
     "output_type": "execute_result"
    }
   ],
   "source": [
    "agg[(agg.startYear > '1873')&(agg.startYear < '2024')]"
   ]
  },
  {
   "attachments": {},
   "cell_type": "markdown",
   "metadata": {},
   "source": [
    "## Using tmdb API to collect data"
   ]
  },
  {
   "cell_type": "code",
   "execution_count": 5,
   "metadata": {},
   "outputs": [],
   "source": [
    "from configparser import ConfigParser\n",
    "import tmdbsimple as tmdb\n",
    "\n",
    "config = ConfigParser()\n",
    "config.read('/home/jdtganding/Documents/bechdel-movies-project/api_keys.cfg')\n",
    "\n",
    "API_KEY = config.get('tmdb', 'api_key')\n",
    "tmdb.API_KEY = API_KEY"
   ]
  },
  {
   "cell_type": "code",
   "execution_count": 50,
   "metadata": {},
   "outputs": [
    {
     "name": "stdout",
     "output_type": "stream",
     "text": [
      "Total movies to scrape: 679397\n"
     ]
    }
   ],
   "source": [
    "total_movies = 0\n",
    "for year in range(1874,2023):\n",
    "    api = f'https://api.themoviedb.org/3/discover/movie?api_key={API_KEY}&primary_release_year={year}'\n",
    "    response = requests.get(api)\n",
    "    movies = response.json()\n",
    "    total_movies += movies['total_results']\n",
    "\n",
    "print(f\"Total movies to scrape: {total_movies}\")"
   ]
  },
  {
   "cell_type": "code",
   "execution_count": 21,
   "metadata": {},
   "outputs": [
    {
     "data": {
      "text/plain": [
       "'{\"status_code\":34,\"status_message\":\"The resource you requested could not be found.\",\"success\":false}'"
      ]
     },
     "execution_count": 21,
     "metadata": {},
     "output_type": "execute_result"
    }
   ],
   "source": [
    "response = requests.post(f'https://api.themoviedb.org/3/discover/movie?api_key={API_KEY}&primary_release_year=2022&page=2')\n",
    "response.text"
   ]
  },
  {
   "cell_type": "code",
   "execution_count": 27,
   "metadata": {},
   "outputs": [
    {
     "data": {
      "text/plain": [
       "{'errors': ['page must be less than or equal to 500'], 'success': False}"
      ]
     },
     "execution_count": 27,
     "metadata": {},
     "output_type": "execute_result"
    }
   ],
   "source": [
    "response = requests.get(f'https://api.themoviedb.org/3/discover/movie?api_key={API_KEY}&primary_release_year=2021&page=600')\n",
    "response.json()"
   ]
  },
  {
   "cell_type": "code",
   "execution_count": 17,
   "metadata": {},
   "outputs": [
    {
     "data": {
      "text/plain": [
       "2023"
      ]
     },
     "execution_count": 17,
     "metadata": {},
     "output_type": "execute_result"
    }
   ],
   "source": [
    "from datetime import date\n",
    "date.today().year"
   ]
  }
 ],
 "metadata": {
  "kernelspec": {
   "display_name": "Python 3 (ipykernel)",
   "language": "python",
   "name": "python3"
  },
  "language_info": {
   "codemirror_mode": {
    "name": "ipython",
    "version": 3
   },
   "file_extension": ".py",
   "mimetype": "text/x-python",
   "name": "python",
   "nbconvert_exporter": "python",
   "pygments_lexer": "ipython3",
   "version": "3.9.2"
  },
  "vscode": {
   "interpreter": {
    "hash": "916dbcbb3f70747c44a77c7bcd40155683ae19c65e1c03b4aa3499c5328201f1"
   }
  }
 },
 "nbformat": 4,
 "nbformat_minor": 2
}
